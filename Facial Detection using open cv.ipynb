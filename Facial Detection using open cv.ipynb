{
 "cells": [
  {
   "cell_type": "markdown",
   "id": "8b0c4eb3",
   "metadata": {},
   "source": [
    "**Facial Detection using open cv**"
   ]
  },
  {
   "cell_type": "code",
   "execution_count": 21,
   "id": "c58f4540",
   "metadata": {},
   "outputs": [],
   "source": [
    "#import libraries\n",
    "import cv2"
   ]
  },
  {
   "cell_type": "code",
   "execution_count": 22,
   "id": "fa045c99",
   "metadata": {},
   "outputs": [],
   "source": [
    "# step 1: Identify your webcam\n",
    "webcam = cv2.VideoCapture(0) # 1- is for external webcam while 0 is for local webcam"
   ]
  },
  {
   "cell_type": "code",
   "execution_count": 23,
   "id": "d619f8e8",
   "metadata": {},
   "outputs": [],
   "source": [
    "# Step 3: Leverage Haarcascade\n",
    "face_cascade = cv2.CascadeClassifier(cv2.data.haarcascades + \"haarcascade_frontalface_default.xml\")\n",
    "eye_cascade = cv2.CascadeClassifier(cv2.data.haarcascades + \"haarcascade_eye.xml\")\n",
    "smile_cascade = cv2.CascadeClassifier(cv2.data.haarcascades + \"haarcascade_smile.xml\")"
   ]
  },
  {
   "cell_type": "code",
   "execution_count": 24,
   "id": "45f53840",
   "metadata": {},
   "outputs": [],
   "source": [
    "# Step 4: Create a function that will detect faces and draw a box around the face\n",
    "def detect(gray, frame):\n",
    "    faces = face_cascade.detectMultiScale(gray, 1.3, 5)\n",
    "    for (x,y,w,h) in faces:\n",
    "        cv2.rectangle(frame, (x,y), (x+w, y+h), (255,255,6), 5)\n",
    "        roi_gray = gray[y:y+h, x:x+w]\n",
    "        roi_color = frame[y:y+h, x:x+w]\n",
    "        \n",
    "        #Eyes Detection\n",
    "        eyes = eye_cascade.detectMultiScale(roi_gray, 1.1, 3)\n",
    "        for (ex,ey,ew,eh) in eyes:\n",
    "            cv2.rectangle(roi_color, (ex,ey), (ex+ew, ey+eh), (6,255,255), 5)\n",
    "       \n",
    "    return frame"
   ]
  },
  {
   "cell_type": "code",
   "execution_count": 25,
   "id": "829f7c69",
   "metadata": {},
   "outputs": [],
   "source": [
    "# Step 2: switch on webcam\n",
    "while True:\n",
    "    _, frame = webcam.read()\n",
    "    \n",
    "    gray = cv2.cvtColor(frame, cv2.COLOR_BGR2GRAY) # Convert the frame into black and white\n",
    "    \n",
    "    display = detect(gray, frame)\n",
    "    \n",
    "    cv2.imshow(\"10Alytics Smile Detection\", display)\n",
    "    if cv2.waitKey(1) & 0xff == ord(\"a\"):\n",
    "        break\n",
    "webcam.release()\n",
    "cv2.destroyAllWindows()"
   ]
  },
  {
   "cell_type": "code",
   "execution_count": null,
   "id": "e40e45d4",
   "metadata": {},
   "outputs": [],
   "source": []
  },
  {
   "cell_type": "code",
   "execution_count": null,
   "id": "aea76d3d",
   "metadata": {},
   "outputs": [],
   "source": []
  }
 ],
 "metadata": {
  "kernelspec": {
   "display_name": "Python 3 (ipykernel)",
   "language": "python",
   "name": "python3"
  },
  "language_info": {
   "codemirror_mode": {
    "name": "ipython",
    "version": 3
   },
   "file_extension": ".py",
   "mimetype": "text/x-python",
   "name": "python",
   "nbconvert_exporter": "python",
   "pygments_lexer": "ipython3",
   "version": "3.9.12"
  }
 },
 "nbformat": 4,
 "nbformat_minor": 5
}
